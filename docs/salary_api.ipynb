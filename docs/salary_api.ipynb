{
 "cells": [
  {
   "cell_type": "markdown",
   "metadata": {},
   "source": [
    "## **SalaryAPI**\n",
    "The `SalaryAPI` class is designed to extract data from Salary.com. It provides methods to construct search endpoints, send requests, and parse salary data from the website.\n",
    "\n",
    "This class inherits from the `BaseRestfulAPI` class, which is a base class that provides basic methods for making GET and POST requests using the `requests` library.\n",
    "\n",
    "## **get_salaries_range**\n",
    "\n",
    "#### `get_salaries_range(job_title: str)`\n",
    "\n",
    "Retrieves salary range data from Salary.com based on the job title.\n",
    "\n",
    "#### Parameters\n",
    "\n",
    "- `job_title` : `str`\n",
    "  - The job title to search for.\n",
    "\n",
    "#### Returns\n",
    "\n",
    "- `dict`\n",
    "  - A dictionary containing salary ranges. Each key is a percentile, and the value is the corresponding salary.\n",
    "\n",
    "#### Raises\n",
    "\n",
    "- `ValueError`\n",
    "  - If the salary details for the given job title could not be found.\n",
    "\n",
    "\n",
    "### **Example**\n"
   ]
  },
  {
   "cell_type": "code",
   "execution_count": 1,
   "metadata": {},
   "outputs": [
    {
     "data": {
      "text/plain": [
       "{'25%': '$59,629',\n",
       " '10%': '$51,986',\n",
       " '90%': '$86,496',\n",
       " '75%': '$77,693',\n",
       " '50%(Median)': '$68,024'}"
      ]
     },
     "execution_count": 1,
     "metadata": {},
     "output_type": "execute_result"
    }
   ],
   "source": [
    "from api_crawler import SalaryAPI\n",
    "\n",
    "\n",
    "salary_api = SalaryAPI()\n",
    "salary_api.get_salaries_range('Data Analyst I')"
   ]
  },
  {
   "cell_type": "markdown",
   "metadata": {},
   "source": [
    "## **search_job_roles**\n",
    "\n",
    "#### `search_job_roles(job_title: str)`\n",
    "\n",
    "Searches for job roles related to the given job title on Salary.com.\n",
    "\n",
    "#### Parameters\n",
    "\n",
    "- `job_title` : `str`\n",
    "  - The job title to search for.\n",
    "\n",
    "#### Returns\n",
    "\n",
    "- `list of dict`\n",
    "  - A list of dictionaries containing job roles data. Each dictionary contains:\n",
    "    - `'title'` : `str`\n",
    "      - The job title.\n",
    "    - `'link'` : `str`\n",
    "      - The URL to the job role details.\n",
    "    - `'alternative_job_titles'` : `str`\n",
    "      - Alternative job titles.\n",
    "    - `'description'` : `str`\n",
    "      - The job description.\n",
    "\n",
    "### **Example**\n"
   ]
  },
  {
   "cell_type": "code",
   "execution_count": 2,
   "metadata": {},
   "outputs": [
    {
     "data": {
      "text/plain": [
       "[{'title': 'Data Analyst I',\n",
       "  'link': 'https://www.salary.com/tools/salary-calculator/data-analyst-i',\n",
       "  'alternative_job_titles': 'Alternate job titles: Data Analytics Analyst I',\n",
       "  'description': 'Supports operations and conducts data analytics projects to provide information and insights to stakeholders for decision-making or solution development. Implements data standards and deploys automation tools to extract, synthesize, and validate data from different sources and transform data into usable metrics. Constructs data sets, monitors data quality, troubleshoots and resolves database issues to ensure data integrity. Utilizes scripting and querying tools like Python, R or SQL, data visualization/BI tools, statistical methods, and data modeling to produce reports, data files, and dashboa\\t\\t\\t\\t\\t\\r\\n\\t\\t\\t\\t\\t\\tmore...'},\n",
       " {'title': 'Data Analyst II',\n",
       "  'link': 'https://www.salary.com/tools/salary-calculator/data-analyst-ii',\n",
       "  'alternative_job_titles': 'Alternate job titles: Data Analytics Analyst II',\n",
       "  'description': 'Supports operations and conducts data analytics projects to provide information and insights to stakeholders for decision-making or solution development. Implements data standards and deploys automation tools to extract, synthesize, and validate data from different sources and transform data into usable metrics. Constructs data sets, monitors data quality, troubleshoots and resolves database issues to ensure data integrity. Utilizes scripting and querying tools like Python, R or SQL, data visualization/BI tools, statistical methods, and data modeling to produce reports, data files, and dashboa\\t\\t\\t\\t\\t\\r\\n\\t\\t\\t\\t\\t\\tmore...'},\n",
       " {'title': 'Data Analyst III',\n",
       "  'link': 'https://www.salary.com/tools/salary-calculator/data-analyst-iii',\n",
       "  'alternative_job_titles': 'Alternate job titles: Data Analytics Analyst III',\n",
       "  'description': 'Supports operations and conducts data analytics projects to provide information and insights to stakeholders for decision-making or solution development. Implements data standards and deploys automation tools to extract, synthesize, and validate data from different sources and transform data into usable metrics. Constructs data sets, monitors data quality, troubleshoots and resolves database issues to ensure data integrity. Utilizes scripting and querying tools like Python, R or SQL, data visualization/BI tools, statistical methods, and data modeling to produce reports, data files, and dashboa\\t\\t\\t\\t\\t\\r\\n\\t\\t\\t\\t\\t\\tmore...'},\n",
       " {'title': 'Data Analyst IV',\n",
       "  'link': 'https://www.salary.com/tools/salary-calculator/data-analyst-iv',\n",
       "  'alternative_job_titles': 'Alternate job titles: Data Analytics Analyst IV',\n",
       "  'description': 'Supports operations and conducts data analytics projects to provide information and insights to stakeholders for decision-making or solution development. Implements data standards and deploys automation tools to extract, synthesize, and validate data from different sources and transform data into usable metrics. Constructs data sets, monitors data quality, troubleshoots and resolves database issues to ensure data integrity. Utilizes scripting and querying tools like Python, R or SQL, data visualization/BI tools, statistical methods, and data modeling to produce reports, data files, and dashboa\\t\\t\\t\\t\\t\\r\\n\\t\\t\\t\\t\\t\\tmore...'},\n",
       " {'title': 'Data Analyst V',\n",
       "  'link': 'https://www.salary.com/tools/salary-calculator/data-analyst-v',\n",
       "  'alternative_job_titles': 'Alternate job titles: Data Analytics Analyst V',\n",
       "  'description': 'Supports operations and conducts data analytics projects to provide information and insights to stakeholders for decision-making or solution development. Implements data standards and deploys automation tools to extract, synthesize, and validate data from different sources and transform data into usable metrics. Constructs data sets, monitors data quality, troubleshoots and resolves database issues to ensure data integrity. Utilizes scripting and querying tools like Python, R or SQL, data visualization/BI tools, statistical methods, and data modeling to produce reports, data files, and dashboa\\t\\t\\t\\t\\t\\r\\n\\t\\t\\t\\t\\t\\tmore...'},\n",
       " {'title': 'Data Modeling Analyst',\n",
       "  'link': 'https://www.salary.com/tools/salary-calculator/data-modeling-analyst',\n",
       "  'alternative_job_titles': 'Alternate job titles: Data Analytics and Modeling Analyst | Data Modeler | Statistical Data Modeler',\n",
       "  'description': \"Develops data models to meet the needs of the organization's information systems. Manages the flow of information between departments through the use of relational databases. Maintains data integrity by working to eliminate redundancy. Stays informed of the ways the organization uses its data. Requires a bachelor's degree. Typically reports to a manager. Gains exposure to some of the complex tasks within the job function. Occasionally directed in several aspects of the work. Typically requires 2 to 4 years of related experience.\\t\\t\\t\\t\\t\\r\\n\\t\\t\\t\\t\\t\\tmore...\"},\n",
       " {'title': 'Experienced Data Analyst',\n",
       "  'link': 'https://www.salary.com/tools/salary-calculator/experienced-data-analyst',\n",
       "  'alternative_job_titles': 'Alternate job titles: Business Data Analyst II | Business Analytics and Insights Specialist II | Business Operations Data Analyst II',\n",
       "  'description': 'The Experienced Data Analyst determines best practices and develops actionable insights and recommendations for the current business operations. Performs business analysis using various techniques, e.g. statistical analysis, explanatory and predictive modeling, data mining. Being an Experienced Data Analyst may help to produce ad hoc data and reports. Works directly with the internal or external client to identify analytical requirements. In addition, Experienced Data Analyst may assist in implementing or developing systems to capture business operation information. May occasionally guide less\\t\\t\\t\\t\\t\\r\\n\\t\\t\\t\\t\\t\\tmore...'},\n",
       " {'title': 'Entry Data Analyst',\n",
       "  'link': 'https://www.salary.com/tools/salary-calculator/entry-data-analyst',\n",
       "  'alternative_job_titles': 'Alternate job titles: Business Data Analyst I | Business Analytics and Insights Specialist I | Business Operations Data Analyst I',\n",
       "  'description': 'The Entry Data Analyst researches best practices and supports developing the solutions and recommendations for the current business operations. Performs routine business analysis using various techniques, e.g. statistical analysis, explanatory and predictive modeling, data mining. Being an Entry Data Analyst may provide business data interpretation. May work with the internal or external client to identify analytical requirements. In addition, Entry Data Analyst may help to produce ad hoc data and reports. May assist in developing or implementing systems to capture business operation informati\\t\\t\\t\\t\\t\\r\\n\\t\\t\\t\\t\\t\\tmore...'},\n",
       " {'title': 'Senior Data Analyst',\n",
       "  'link': 'https://www.salary.com/tools/salary-calculator/senior-data-analyst',\n",
       "  'alternative_job_titles': 'Alternate job titles: Business Data Analyst III | Business Analytics and Insights Specialist III | Business Operations Data Analyst III',\n",
       "  'description': 'The Senior Data Analyst determines best practices and develops actionable insights and recommendations for the current business operations or issues. Performs advanced business analysis using various techniques, e.g. statistical analysis, explanatory and predictive modeling, data mining. Being a Senior Data Analyst may handle special analytical projects as needed. Works closely with the internal or external client to identify analytical requirements. In addition, Senior Data Analyst may assist in implementing or developing systems to capture business operation information. May oversee the work\\t\\t\\t\\t\\t\\r\\n\\t\\t\\t\\t\\t\\tmore...'},\n",
       " {'title': 'Data Privacy Analyst',\n",
       "  'link': 'https://www.salary.com/tools/salary-calculator/data-privacy-analyst',\n",
       "  'alternative_job_titles': None,\n",
       "  'description': \"The Data Privacy Analyst reinforces business and data management processes and procedures that comply with privacy laws and regulations. Implements and supports an organization's privacy programs and policies. Being a Data Privacy Analyst administers compliance monitoring, auditing, and remediation processes. Coordinates and delivers privacy training programs, communications, and training materials. In addition, Data Privacy Analyst conducts research, analysis, and reporting on the impacts of new legal changes or of potential policy changes. Requires a bachelor's degree. Typically reports to a\\t\\t\\t\\t\\t\\r\\n\\t\\t\\t\\t\\t\\tmore...\"}]"
      ]
     },
     "execution_count": 2,
     "metadata": {},
     "output_type": "execute_result"
    }
   ],
   "source": [
    "from api_crawler import SalaryAPI\n",
    "\n",
    "\n",
    "salary_api = SalaryAPI()\n",
    "salary_api.search_job_roles('Data Analyst')"
   ]
  }
 ],
 "metadata": {
  "kernelspec": {
   "display_name": "Python 3",
   "language": "python",
   "name": "python3"
  },
  "language_info": {
   "codemirror_mode": {
    "name": "ipython",
    "version": 3
   },
   "file_extension": ".py",
   "mimetype": "text/x-python",
   "name": "python",
   "nbconvert_exporter": "python",
   "pygments_lexer": "ipython3",
   "version": "3.10.12"
  }
 },
 "nbformat": 4,
 "nbformat_minor": 2
}
